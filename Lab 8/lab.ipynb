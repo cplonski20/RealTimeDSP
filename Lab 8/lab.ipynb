{
 "cells": [
  {
   "cell_type": "code",
   "execution_count": 86,
   "metadata": {},
   "outputs": [
    {
     "name": "stdout",
     "output_type": "stream",
     "text": [
      "(40000, 784) (10000, 784)\n",
      "(40000, 10) (10000, 10)\n",
      "This Digit is a: [0. 0. 0. 0. 0. 1. 0. 0. 0. 0.]\n"
     ]
    },
    {
     "data": {
      "text/plain": [
       "<matplotlib.image.AxesImage at 0x20d1cd748b0>"
      ]
     },
     "execution_count": 86,
     "metadata": {},
     "output_type": "execute_result"
    },
    {
     "data": {
      "image/png": "[encoded data removed]",
      "text/plain": [
       "<Figure size 640x480 with 1 Axes>"
      ]
     },
     "metadata": {},
     "output_type": "display_data"
    }
   ],
   "source": [
    "import numpy as np\n",
    "import os\n",
    "import matplotlib.pyplot as plt\n",
    "\n",
    "image_size = 28\n",
    "\n",
    "# Load data\n",
    "train = np.load(os.getcwd()+'/mnist_train.npy', allow_pickle=True)\n",
    "test = np.load(os.getcwd()+'/mnist_test.npy', allow_pickle=True)\n",
    "\n",
    "train_data = train[()]['data']\n",
    "train_labels = train[()]['labels']\n",
    "\n",
    "test_data = test[()]['data']\n",
    "test_labels = test[()]['labels']\n",
    "\n",
    "# Print dataset dimensions\n",
    "print(train_data.shape,  test_data.shape)\n",
    "print(train_labels.shape,  test_labels.shape)\n",
    "\n",
    "\n",
    "# Show the 1st digit image from dataset and print its label\n",
    "# ======== YOUR CODE HERE ========\n",
    "\n",
    "print(\"This Digit is a:\", train_labels[0])\n",
    "plt.imshow(train_data[0].reshape(image_size, image_size), cmap='gray')\n",
    "# ================================"
   ]
  },
  {
   "cell_type": "code",
   "execution_count": 87,
   "metadata": {},
   "outputs": [],
   "source": [
    "def sigmoid(z):\n",
    "# ======== YOUR CODE HERE ========\n",
    "    return 1/(1+np.exp(-1*z))\n",
    "\n",
    "# ================================\n",
    "\n",
    "def grad_log(theta, X, y):\n",
    "    m = X.shape[0]\n",
    "# ======== YOUR CODE HERE ========\n",
    "    temp = sigmoid(theta @ X.T)\n",
    "    temp  = (temp - y.T) @  X\n",
    "    return temp\n",
    "# ================================\n",
    "\n",
    "def cost_log(theta, X, y):\n",
    "    m = X.shape[0]\n",
    "# ======== YOUR CODE HERE ========\n",
    "    cost = 0\n",
    "    \n",
    "    temp =sigmoid(theta @ X.T)\n",
    "    # print(y.shape)\n",
    "    cost = np.sum(np.log(temp) * y.T + np.log(1-temp) * (1-y).T)\n",
    "\n",
    "    return -1/m *cost\n",
    "# ================================"
   ]
  },
  {
   "cell_type": "code",
   "execution_count": 88,
   "metadata": {},
   "outputs": [
    {
     "data": {
      "text/plain": [
       "[<matplotlib.lines.Line2D at 0x20d1b072bc0>]"
      ]
     },
     "execution_count": 88,
     "metadata": {},
     "output_type": "execute_result"
    },
    {
     "data": {
      "image/png": "[encoded data removed]",
      "text/plain": [
       "<Figure size 640x480 with 1 Axes>"
      ]
     },
     "metadata": {},
     "output_type": "display_data"
    }
   ],
   "source": [
    "#Train Classifier\n",
    "num_iter = 3000\n",
    "alpha = 1*10**(-9)\n",
    "numclasses = 10\n",
    "\n",
    "# Add a column of ones to train_data\n",
    "ones = np.ones((train_data.shape[0],1))\n",
    "train_data = np.hstack((ones, train_data))\n",
    "\n",
    "# Add a column of ones to test_data\n",
    "ones = np.ones((test_data.shape[0],1))\n",
    "test_data = np.hstack((ones, test_data))\n",
    "\n",
    "# Initialize parameters\n",
    "init_theta = np.zeros((numclasses, train_data.shape[1]))\n",
    "\n",
    "# ======== YOUR CODE HERE ========\n",
    "optTheta = np.copy(init_theta)\n",
    "costs = np.zeros(num_iter)\n",
    "for i in range(num_iter):\n",
    "    costs[i] = cost_log(optTheta, train_data,train_labels)\n",
    "    optTheta = optTheta - alpha* grad_log(optTheta,train_data,train_labels)\n",
    "# ================================\n",
    "plt.plot(np.arange(num_iter), costs)"
   ]
  },
  {
   "cell_type": "code",
   "execution_count": 92,
   "metadata": {},
   "outputs": [
    {
     "name": "stdout",
     "output_type": "stream",
     "text": [
      "(10, 785)\n"
     ]
    }
   ],
   "source": [
    "np.savetxt('theta_log.csv', optTheta, delimiter=',')\n",
    "print(optTheta.shape)"
   ]
  },
  {
   "cell_type": "code",
   "execution_count": 91,
   "metadata": {},
   "outputs": [
    {
     "name": "stdout",
     "output_type": "stream",
     "text": [
      "Training Set Accuracy: 0.8936000000000001\n",
      "Training Set Confusion Matrix\n",
      "[[0.977 0.    0.002 0.002 0.002 0.009 0.007 0.    0.001 0.   ]\n",
      " [0.    0.976 0.006 0.003 0.001 0.007 0.001 0.002 0.004 0.   ]\n",
      " [0.007 0.01  0.908 0.019 0.012 0.007 0.011 0.011 0.013 0.002]\n",
      " [0.004 0.004 0.027 0.897 0.001 0.041 0.005 0.009 0.004 0.008]\n",
      " [0.003 0.003 0.007 0.002 0.943 0.004 0.007 0.004 0.003 0.025]\n",
      " [0.011 0.003 0.006 0.029 0.011 0.907 0.013 0.002 0.011 0.007]\n",
      " [0.005 0.003 0.005 0.001 0.004 0.022 0.958 0.    0.002 0.   ]\n",
      " [0.003 0.004 0.012 0.003 0.01  0.003 0.001 0.947 0.001 0.017]\n",
      " [0.018 0.041 0.042 0.085 0.022 0.164 0.013 0.011 0.591 0.015]\n",
      " [0.01  0.005 0.006 0.026 0.055 0.019 0.    0.047 0.001 0.831]]\n",
      "Testing Set Accuracy: 0.8879\n",
      "Testing Set Confusion Matrix\n",
      "[[0.98  0.    0.    0.002 0.    0.005 0.008 0.002 0.002 0.001]\n",
      " [0.    0.983 0.003 0.003 0.    0.003 0.004 0.001 0.004 0.001]\n",
      " [0.007 0.012 0.904 0.023 0.009 0.005 0.012 0.01  0.016 0.003]\n",
      " [0.003 0.    0.022 0.912 0.001 0.04  0.003 0.011 0.002 0.007]\n",
      " [0.001 0.001 0.005 0.002 0.944 0.    0.01  0.001 0.005 0.031]\n",
      " [0.011 0.002 0.003 0.019 0.011 0.913 0.016 0.001 0.016 0.008]\n",
      " [0.013 0.003 0.008 0.004 0.007 0.027 0.936 0.    0.001 0.   ]\n",
      " [0.003 0.008 0.026 0.005 0.008 0.002 0.001 0.925 0.001 0.021]\n",
      " [0.023 0.028 0.03  0.086 0.031 0.192 0.018 0.027 0.552 0.013]\n",
      " [0.013 0.009 0.003 0.018 0.066 0.021 0.    0.056 0.    0.815]]\n"
     ]
    }
   ],
   "source": [
    "def test_classifier(optTheta, X, y):\n",
    "    def squared_error(a,b):\n",
    "        return (a-b)**2\n",
    "    def conf_matrix(y, y_hat, num_classes):\n",
    "        m = np.zeros((num_classes, num_classes))\n",
    "        for i in range(len(y)):\n",
    "            m[int(y[i]), int(y_hat[i])] += 1.0\n",
    "\n",
    "        for i in range(m.shape[0]):\n",
    "            m[i,:] = 1./np.sum(m[i,:]) * m[i,:]\n",
    "        return m\n",
    "    def accuracy(y, y_hat):\n",
    "        acc = 0.0\n",
    "        for i in range(y.shape[0]):\n",
    "            if y[i] == y_hat[i]:\n",
    "                acc += 1.0\n",
    "        return 1./float(y.shape[0]) * acc\n",
    "\n",
    "# Get one hot vector estimates for the trained linear classifier\n",
    "    y_hat = sigmoid(optTheta @ X.T)\n",
    "\n",
    "#argmax over number of classes\n",
    "    y_labels = np.argmax(y.T, axis=0)\n",
    "#argmin over number of classes (smallest error is the chosen label)\n",
    "    y_hat_labels = np.argmin(squared_error(y_hat, np.ones(y_hat.shape)), axis=0)\n",
    "    return accuracy(y_labels, y_hat_labels), conf_matrix(y_labels, y_hat_labels, 10)\n",
    "\n",
    "\n",
    "# ones = np.ones((train_data.shape[0],1))\n",
    "# X = np.hstack((ones, train_data))\n",
    "X = train_data\n",
    "# Use your trained optTheta and evaluate with training data\n",
    "train_acc, train_conf = test_classifier(optTheta, X, train_labels)\n",
    "\n",
    "# ones = np.ones((test_data.shape[0],1))\n",
    "# X = np.hstack((ones, test_data))\n",
    "X = test_data\n",
    "# Use your trained optTheta and evaluate with training data\n",
    "test_acc, test_conf = test_classifier(optTheta, X, test_labels)\n",
    "\n",
    "np.set_printoptions(precision=3)\n",
    "np.set_printoptions(suppress=True)\n",
    "\n",
    "print(\"Training Set Accuracy: \" + str(train_acc))\n",
    "print(\"Training Set Confusion Matrix\")\n",
    "print(train_conf)\n",
    "\n",
    "print(\"Testing Set Accuracy: \" + str(test_acc))\n",
    "print(\"Testing Set Confusion Matrix\")\n",
    "print(test_conf)"
   ]
  },
  {
   "cell_type": "code",
   "execution_count": null,
   "metadata": {},
   "outputs": [],
   "source": []
  }
 ],
 "metadata": {
  "kernelspec": {
   "display_name": "base",
   "language": "python",
   "name": "python3"
  },
  "language_info": {
   "codemirror_mode": {
    "name": "ipython",
    "version": 3
   },
   "file_extension": ".py",
   "mimetype": "text/x-python",
   "name": "python",
   "nbconvert_exporter": "python",
   "pygments_lexer": "ipython3",
   "version": "3.10.9"
  },
  "orig_nbformat": 4
 },
 "nbformat": 4,
 "nbformat_minor": 2
}
