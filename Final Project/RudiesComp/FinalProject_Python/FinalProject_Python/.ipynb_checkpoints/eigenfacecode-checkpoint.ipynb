{
 "cells": [
  {
   "cell_type": "code",
   "execution_count": 1,
   "metadata": {},
   "outputs": [
    {
     "name": "stdout",
     "output_type": "stream",
     "text": [
      "(1000, 38804)\n"
     ]
    }
   ],
   "source": [
    "# Import the necessary libraries\n",
    "from PIL import Image\n",
    "import numpy as np\n",
    "import os\n",
    "root_dir = os.getcwd()\n",
    "\n",
    "src = os.path.join(root_dir,'images_few')\n",
    "allFileNames = os.listdir(src)\n",
    " \n",
    "temp = np.zeros((218,178))\n",
    "# load the image and convert into\n",
    "# numpy array\n",
    "data = np.zeros((218*178,1000))\n",
    "i = 0\n",
    "for name in allFileNames:\n",
    "\n",
    "    img = Image.open('./images_few/' + name)\n",
    "    img = img.convert(\"L\")\n",
    "    # asarray() class is used to convert\n",
    "    # PIL images into NumPy arrays\n",
    "    numpydata = np.asarray(img)\n",
    "    temp = numpydata\n",
    "    \n",
    "    data[:,i] = numpydata.flatten()\n",
    "    i+=1\n",
    "\n",
    "data = data.T\n",
    "print(data.shape)\n",
    "#image size is 218*178"
   ]
  },
  {
   "cell_type": "code",
   "execution_count": 2,
   "metadata": {},
   "outputs": [],
   "source": [
    "\n",
    "#zero mean the data\n",
    "mean = np.mean(data,axis = 0)"
   ]
  },
  {
   "cell_type": "code",
   "execution_count": 3,
   "metadata": {},
   "outputs": [],
   "source": [
    "data = data - mean.reshape(1,-1)"
   ]
  },
  {
   "cell_type": "code",
   "execution_count": null,
   "metadata": {},
   "outputs": [],
   "source": []
  },
  {
   "cell_type": "code",
   "execution_count": 4,
   "metadata": {},
   "outputs": [
    {
     "name": "stdout",
     "output_type": "stream",
     "text": [
      "(1000, 38804)\n"
     ]
    }
   ],
   "source": [
    "print(data.shape)"
   ]
  },
  {
   "cell_type": "code",
   "execution_count": 5,
   "metadata": {},
   "outputs": [],
   "source": [
    "def pca(data):\n",
    "        \"\"\" Implement PCA via the eigendecomposition or the SVD.\n",
    "\n",
    "        Parameters:\n",
    "        1. data     (N,d) numpy ndarray. Each row as a feature vector.\n",
    "\n",
    "        Outputs:\n",
    "        1. W        (d,d) numpy array. PCA transformation matrix (Note that each **row** of the matrix should be a principal component)\n",
    "        2. s        (d,) numpy array. Vector consisting of the amount  of variance explained in the data by each PCA feature.\n",
    "        Note that the PCA features are ordered in **decreasing** amount of variance explained, by convention.\n",
    "        \"\"\"\n",
    "        W = np.zeros((data.shape[1],data.shape[1]))\n",
    "        s = np.zeros(data.shape[1])\n",
    "        # Put your code below\n",
    "        covariance_matrix = np.dot(data.T,data)/(data.shape[0])\n",
    "        eigvals, eigvecs = np.linalg.eigh(covariance_matrix)\n",
    "        eigvals = eigvals[::-1]\n",
    "        eigvecs = eigvecs[:,::-1]\n",
    "        W = eigvecs\n",
    "        s = eigvals\n",
    "        \n",
    "\n",
    "        return (W,s)"
   ]
  },
  {
   "cell_type": "code",
   "execution_count": 6,
   "metadata": {},
   "outputs": [
    {
     "name": "stdout",
     "output_type": "stream",
     "text": [
      "(38804, 1000)\n"
     ]
    }
   ],
   "source": [
    "data = data.T\n",
    "print(data.shape)\n",
    "eigenfaces = pca(data)"
   ]
  },
  {
   "cell_type": "code",
   "execution_count": 7,
   "metadata": {},
   "outputs": [
    {
     "name": "stdout",
     "output_type": "stream",
     "text": [
      "(1000, 1000)\n",
      "(38804, 1000)\n",
      "(38804, 1000)\n"
     ]
    }
   ],
   "source": [
    "W = eigenfaces[0]\n",
    "s = eigenfaces[1]\n",
    "print(W.shape)\n",
    "print(data.shape)\n",
    "# eigenfaces = W.dot(data)\n",
    "eigenfaces = data.dot(W)\n",
    "# temp = np.linalg.svd(data)\n",
    "print(eigenfaces.shape)\n",
    "eigenfaces=eigenfaces.T"
   ]
  },
  {
   "cell_type": "code",
   "execution_count": 8,
   "metadata": {},
   "outputs": [
    {
     "name": "stdout",
     "output_type": "stream",
     "text": [
      "(1000, 38804)\n"
     ]
    }
   ],
   "source": [
    "print(eigenfaces.shape)"
   ]
  },
  {
   "cell_type": "code",
   "execution_count": 9,
   "metadata": {},
   "outputs": [],
   "source": [
    "for i in range(eigenfaces.shape[0]):\n",
    "    eigenfaces[i] = eigenfaces[i]/np.linalg.norm(eigenfaces[i])\n",
    "    \n"
   ]
  },
  {
   "cell_type": "code",
   "execution_count": 154,
   "metadata": {},
   "outputs": [],
   "source": [
    "# When you want to export the eigenface vectors they are in eigenfaces matrix stored as rows. You can take the first 100 or so vectors.\n",
    "# Maybe dont use first 3 as paper mentions\n",
    "# NEED TO RESHAPE IMAGE TO 218,178 and then flatten it \n",
    "# Export the mean also stored as (mean)\n",
    "\n",
    "#Steps to first demo:\n",
    "# 1) export eigenfaces and the mean \n",
    "# 2) use face tracking from lab 7 \n",
    "# 3) between updating frames take roi resize (using library) to 218x177, subtract mean, and project onto the 100 or \n",
    "#    so eigenfaces we used. This gives u 100 or so values\n",
    "# 4) treat 100 or so values as a vector and find the distanc of that vector to other stored vectors gotten by projecting images (after subtracting mean) of our faces onto the eigenfaces\n",
    "# 5) Smallest distance cooresponds to the face of the person who we are likely tracking\n",
    "# 6) classify that person by placing text at the bottom of ROI (Using opencv) saying their name\n",
    "\n",
    "\n",
    "#below this is stuff irrelevant to our project\n",
    "\n",
    "\n"
   ]
  },
  {
   "cell_type": "code",
   "execution_count": 11,
   "metadata": {},
   "outputs": [],
   "source": [
    "test = Image.open('./images_few/000007.jpg')\n",
    "test = test.convert(\"L\")\n",
    "test = np.asarray(img)\n",
    "# img = Image.fromarray(np.uint8(test) , 'L')\n",
    "# img.show()\n",
    "test = np.ndarray.flatten(test)\n",
    "test = test - mean\n",
    "\n",
    "toshow = np.zeros((218,178))\n",
    "for i in range(0,1000):\n",
    "    projected = eigenfaces[i] * np.dot(eigenfaces[i], test)\n",
    "    projected = projected.reshape((218,178))\n",
    "    toshow += projected\n",
    "\n",
    "# projected = eigenfaces[7] * np.dot(eigenfaces[7], test)\n",
    "# projected = projected.reshape((218,178))\n",
    "toshow= 255*((toshow - np.min(toshow)) / (np.max(toshow) - np.min(toshow)))\n",
    "\n",
    "img = Image.fromarray(np.uint8(toshow) , 'L')\n",
    "img.show()"
   ]
  },
  {
   "cell_type": "code",
   "execution_count": 156,
   "metadata": {},
   "outputs": [],
   "source": [
    "\n",
    "new_size = (178, 218)\n",
    "\n",
    "# Open the image file\n",
    "chazPIC = Image.open('./chazpic.jpg')\n",
    "chazPIC = chazPIC.resize(new_size, resample=Image.LANCZOS)\n",
    "chazPIC = np.array(chazPIC.convert(\"L\"))\n",
    "chazPIC = np.ndarray.flatten(chazPIC) - mean\n",
    "\n",
    "aahanPIC = Image.open('./aahanpic.jpg')\n",
    "aahanPIC = aahanPIC.resize(new_size, resample=Image.LANCZOS)\n",
    "aahanPIC = np.array(aahanPIC.convert(\"L\"))\n",
    "aahanPIC = np.ndarray.flatten(aahanPIC) - mean\n",
    "\n",
    "rutvikPIC = Image.open('./rutvikface.jpg')\n",
    "rutvikPIC = rutvikPIC.resize(new_size, resample=Image.LANCZOS)\n",
    "rutvikPIC = np.array(rutvikPIC.convert(\"L\"))\n",
    "rutvikPIC = np.ndarray.flatten(rutvikPIC) - mean\n",
    "\n",
    "\n",
    "finaltest = Image.open('./ChazTEST.jpg')\n",
    "finaltest = finaltest.resize(new_size, resample=Image.LANCZOS)\n",
    "finaltest = np.array(finaltest.convert(\"L\"))\n",
    "# img = Image.fromarray(np.uint8(finaltest) , 'L')\n",
    "# img.show()\n",
    "finaltest = np.ndarray.flatten(finaltest) - mean\n",
    "\n"
   ]
  },
  {
   "cell_type": "code",
   "execution_count": 157,
   "metadata": {},
   "outputs": [
    {
     "name": "stdout",
     "output_type": "stream",
     "text": [
      "(98, 38804)\n"
     ]
    }
   ],
   "source": [
    "# test = np.ndarray.flatten(np.asarray(resized_image)) - mean\n",
    "# toshow = np.zeros((218,178))\n",
    "# for i in range(2,1000):\n",
    "#     projected = eigenfaces[i] * np.dot(eigenfaces[i], test)\n",
    "#     projected = projected.reshape((218,178))\n",
    "#     toshow += projected\n",
    "\n",
    "# # projected = eigenfaces[7] * np.dot(eigenfaces[7], test)\n",
    "# # projected = projected.reshape((218,178))\n",
    "# toshow= 255*((toshow - np.min(toshow)) / (np.max(toshow) - np.min(toshow)))\n",
    "\n",
    "# img = Image.fromarray(np.uint8(toshow) , 'L')\n",
    "# img.show()\n",
    "magicmatrix = eigenfaces[2:100]\n",
    "print(magicmatrix.shape)"
   ]
  },
  {
   "cell_type": "code",
   "execution_count": 158,
   "metadata": {},
   "outputs": [],
   "source": [
    "\n",
    "chazdata =  magicmatrix @ chazPIC\n",
    "aahandata = magicmatrix @ aahanPIC\n",
    "rudydata = magicmatrix @ rutvikPIC\n",
    "finaldata = magicmatrix @ finaltest\n",
    "\n",
    "results = np.zeros(3)\n",
    "\n",
    "results[0] = np.linalg.norm(chazdata - finaldata)\n",
    "results[1] = np.linalg.norm(aahandata - finaldata)\n",
    "results[2] = np.linalg.norm(rudydata - finaldata)"
   ]
  },
  {
   "cell_type": "code",
   "execution_count": 159,
   "metadata": {},
   "outputs": [
    {
     "name": "stdout",
     "output_type": "stream",
     "text": [
      "[10697.18799658 10901.1433761  12016.80982567]\n"
     ]
    }
   ],
   "source": [
    "print(results)"
   ]
  },
  {
   "cell_type": "code",
   "execution_count": null,
   "metadata": {},
   "outputs": [],
   "source": []
  }
 ],
 "metadata": {
  "kernelspec": {
   "display_name": "Python 3 (ipykernel)",
   "language": "python",
   "name": "python3"
  },
  "language_info": {
   "codemirror_mode": {
    "name": "ipython",
    "version": 3
   },
   "file_extension": ".py",
   "mimetype": "text/x-python",
   "name": "python",
   "nbconvert_exporter": "python",
   "pygments_lexer": "ipython3",
   "version": "3.9.12"
  }
 },
 "nbformat": 4,
 "nbformat_minor": 2
}
