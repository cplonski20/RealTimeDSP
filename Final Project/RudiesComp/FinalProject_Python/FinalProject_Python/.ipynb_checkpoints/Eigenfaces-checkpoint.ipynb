{
 "cells": [
  {
   "cell_type": "markdown",
   "id": "ffb53287",
   "metadata": {},
   "source": [
    "# ECE 420 Final Project: Tip of the Toungue\n",
    "\n",
    "## Creating Eigenfaces from training set & our own faces\n",
    "\n",
    "Rutvik Sayankar,\n",
    "Charlie Plonski,\n",
    "Aahan Thapliyal"
   ]
  },
  {
   "cell_type": "code",
   "execution_count": 1,
   "id": "90da93bd",
   "metadata": {},
   "outputs": [
    {
     "ename": "IndexError",
     "evalue": "index 1000 is out of bounds for axis 1 with size 1000",
     "output_type": "error",
     "traceback": [
      "\u001b[1;31m---------------------------------------------------------------------------\u001b[0m",
      "\u001b[1;31mIndexError\u001b[0m                                Traceback (most recent call last)",
      "Input \u001b[1;32mIn [1]\u001b[0m, in \u001b[0;36m<cell line: 15>\u001b[1;34m()\u001b[0m\n\u001b[0;32m     21\u001b[0m     numpydata \u001b[38;5;241m=\u001b[39m np\u001b[38;5;241m.\u001b[39masarray(img)\n\u001b[0;32m     22\u001b[0m     temp \u001b[38;5;241m=\u001b[39m numpydata\n\u001b[1;32m---> 24\u001b[0m     data[:,i] \u001b[38;5;241m=\u001b[39m numpydata\u001b[38;5;241m.\u001b[39mflatten()\n\u001b[0;32m     25\u001b[0m     i\u001b[38;5;241m+\u001b[39m\u001b[38;5;241m=\u001b[39m\u001b[38;5;241m1\u001b[39m\n\u001b[0;32m     27\u001b[0m data \u001b[38;5;241m=\u001b[39m data\u001b[38;5;241m.\u001b[39mT\n",
      "\u001b[1;31mIndexError\u001b[0m: index 1000 is out of bounds for axis 1 with size 1000"
     ]
    }
   ],
   "source": [
    "# Import the necessary libraries\n",
    "from PIL import Image\n",
    "import numpy as np\n",
    "import os\n",
    "root_dir = os.getcwd()\n",
    "\n",
    "src = os.path.join(root_dir,'training_images_celebrities_full')\n",
    "allFileNames = os.listdir(src)\n",
    " \n",
    "temp = np.zeros((218,178))\n",
    "# load the image and convert into\n",
    "# numpy array\n",
    "data = np.zeros((218*178,4422))\n",
    "i = 0\n",
    "for name in allFileNames:\n",
    "\n",
    "    img = Image.open('./training_images_celebrities_full/' + name)\n",
    "    img = img.convert(\"L\")\n",
    "    # asarray() class is used to convert\n",
    "    # PIL images into NumPy arrays\n",
    "    numpydata = np.asarray(img)\n",
    "    temp = numpydata\n",
    "    \n",
    "    data[:,i] = numpydata.flatten()\n",
    "    i+=1\n",
    "\n",
    "data = data.T\n",
    "print(\"Data Shape: \", data.shape)\n",
    "#image size is 218*178\n",
    "\n",
    "#zero mean the data\n",
    "mean = np.mean(data,axis = 0)\n",
    "\n",
    "data = data - mean.reshape(1,-1)\n",
    "\n",
    "print(\"Mean Reshaped: \", data.shape)"
   ]
  },
  {
   "cell_type": "code",
   "execution_count": null,
   "id": "d6720047",
   "metadata": {},
   "outputs": [],
   "source": [
    "def pca(data):\n",
    "        \"\"\" Implement PCA via the eigendecomposition or the SVD.\n",
    "\n",
    "        Parameters:\n",
    "        1. data     (N,d) numpy ndarray. Each row as a feature vector.\n",
    "\n",
    "        Outputs:\n",
    "        1. W        (d,d) numpy array. PCA transformation matrix (Note that each **row** of the matrix should be a principal component)\n",
    "        2. s        (d,) numpy array. Vector consisting of the amount  of variance explained in the data by each PCA feature.\n",
    "        Note that the PCA features are ordered in **decreasing** amount of variance explained, by convention.\n",
    "        \"\"\"\n",
    "        W = np.zeros((data.shape[1],data.shape[1]))\n",
    "        s = np.zeros(data.shape[1])\n",
    "        # Put your code below\n",
    "        covariance_matrix = np.dot(data.T,data)/(data.shape[0])\n",
    "        eigvals, eigvecs = np.linalg.eigh(covariance_matrix)\n",
    "        eigvals = eigvals[::-1]\n",
    "        eigvecs = eigvecs[:,::-1]\n",
    "        W = eigvecs\n",
    "        s = eigvals\n",
    "        \n",
    "\n",
    "        return (W,s)"
   ]
  },
  {
   "cell_type": "code",
   "execution_count": null,
   "id": "288da1f0",
   "metadata": {},
   "outputs": [],
   "source": [
    "data = data.T\n",
    "print(\"Transposed Data Shape: \", data.shape)\n",
    "eigenfaces = pca(data)"
   ]
  },
  {
   "cell_type": "code",
   "execution_count": null,
   "id": "91e61c58",
   "metadata": {},
   "outputs": [],
   "source": [
    "W = eigenfaces[0]\n",
    "s = eigenfaces[1]\n",
    "print(W.shape)\n",
    "print(data.shape)\n",
    "# eigenfaces = W.dot(data)\n",
    "eigenfaces = data.dot(W)\n",
    "# temp = np.linalg.svd(data)\n",
    "print(\"Eigenfaces Shape: \", eigenfaces.shape)\n",
    "eigenfaces=eigenfaces.T\n",
    "\n",
    "print(\"Eigenfaces Transposed Shape: \", eigenfaces.shape)\n",
    "\n",
    "for i in range(eigenfaces.shape[0]):\n",
    "    eigenfaces[i] = eigenfaces[i]/np.linalg.norm(eigenfaces[i])"
   ]
  },
  {
   "cell_type": "code",
   "execution_count": null,
   "id": "e274b26b",
   "metadata": {},
   "outputs": [],
   "source": [
    "new_size = (178, 218)\n",
    "\n",
    "# Open the image file\n",
    "chazPIC = Image.open('./chazpic.jpg')\n",
    "chazPIC = chazPIC.resize(new_size, resample=Image.LANCZOS)\n",
    "chazPIC = np.array(chazPIC.convert(\"L\"))\n",
    "# img = Image.fromarray(np.uint8(chazPIC) , 'L')\n",
    "# img.show()\n",
    "chazPIC = np.ndarray.flatten(chazPIC) - mean\n",
    "\n",
    "aahanPIC = Image.open('./aahanpic.jpg')\n",
    "aahanPIC = aahanPIC.resize(new_size, resample=Image.LANCZOS)\n",
    "aahanPIC = np.array(aahanPIC.convert(\"L\"))\n",
    "aahanPIC = np.ndarray.flatten(aahanPIC) - mean\n",
    "\n",
    "rutvikPIC = Image.open('./rutvikface.jpg')\n",
    "rutvikPIC = rutvikPIC.resize(new_size, resample=Image.LANCZOS)\n",
    "rutvikPIC = np.array(rutvikPIC.convert(\"L\"))\n",
    "rutvikPIC = np.ndarray.flatten(rutvikPIC) - mean\n",
    "\n",
    "# Testing if it works to classify\n",
    "finaltest = Image.open('./chazCropped.jpg')\n",
    "finaltest = finaltest.resize(new_size, resample=Image.LANCZOS)\n",
    "finaltest = np.array(finaltest.convert(\"L\"))\n",
    "# img = Image.fromarray(np.uint8(finaltest) , 'L')\n",
    "# img.show()\n",
    "finaltest = np.ndarray.flatten(finaltest) - mean"
   ]
  },
  {
   "cell_type": "code",
   "execution_count": null,
   "id": "d1436971",
   "metadata": {},
   "outputs": [],
   "source": [
    "magicmatrix = eigenfaces[0:100]\n",
    "print(magicmatrix.shape)"
   ]
  },
  {
   "cell_type": "code",
   "execution_count": null,
   "id": "8238f10b",
   "metadata": {},
   "outputs": [],
   "source": [
    "chazdata =  magicmatrix @ chazPIC\n",
    "aahandata = magicmatrix @ aahanPIC\n",
    "rudydata = magicmatrix @ rutvikPIC\n",
    "finaldata = magicmatrix @ finaltest\n",
    "\n",
    "results = np.zeros(3)\n",
    "\n",
    "results[0] = np.linalg.norm(chazdata - finaldata)\n",
    "results[1] = np.linalg.norm(aahandata - finaldata)\n",
    "results[2] = np.linalg.norm(rudydata - finaldata)"
   ]
  },
  {
   "cell_type": "code",
   "execution_count": null,
   "id": "d4defc3c",
   "metadata": {},
   "outputs": [],
   "source": [
    "print(results)"
   ]
  },
  {
   "cell_type": "code",
   "execution_count": null,
   "id": "b082bc51",
   "metadata": {},
   "outputs": [],
   "source": [
    "import csv\n",
    "\n",
    "# Define the data to be stored in the CSV file\n",
    "# Open a new CSV file in write mode\n",
    "with open(\"MeanAndFaces.csv\", \"w\", newline=\"\") as csvfile:\n",
    "    # Create a CSV writer object\n",
    "    writer = csv.writer(csvfile)\n",
    "    \n",
    "    # Write the data to the CSV file\n",
    "    writer.writerow(mean)\n",
    "    for i in range(100):\n",
    "        writer.writerow(magicmatrix[i])\n",
    "#     writer.writerow(aahandata)\n",
    "#     writer.writerow(chazdata)\n",
    "#     writer.writerow(rudydata)"
   ]
  }
 ],
 "metadata": {
  "kernelspec": {
   "display_name": "Python 3 (ipykernel)",
   "language": "python",
   "name": "python3"
  },
  "language_info": {
   "codemirror_mode": {
    "name": "ipython",
    "version": 3
   },
   "file_extension": ".py",
   "mimetype": "text/x-python",
   "name": "python",
   "nbconvert_exporter": "python",
   "pygments_lexer": "ipython3",
   "version": "3.9.12"
  }
 },
 "nbformat": 4,
 "nbformat_minor": 5
}
