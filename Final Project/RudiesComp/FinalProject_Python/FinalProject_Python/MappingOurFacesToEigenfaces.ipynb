{
 "cells": [
  {
   "cell_type": "markdown",
   "id": "2e064348",
   "metadata": {},
   "source": [
    "# ECE 420 Final Project: Tip of the Toungue\n",
    "\n",
    "## Mapping our faces to the Eigenfaces\n",
    "\n",
    "Rutvik Sayankar,\n",
    "Charlie Plonski,\n",
    "Aahan Thapliyal"
   ]
  },
  {
   "cell_type": "code",
   "execution_count": 4,
   "id": "4a93d8ef",
   "metadata": {},
   "outputs": [],
   "source": [
    "# Import the necessary libraries\n",
    "from PIL import Image\n",
    "import numpy as np\n",
    "import os\n",
    "import csv\n"
   ]
  },
  {
   "cell_type": "code",
   "execution_count": 5,
   "id": "5504d3e7",
   "metadata": {},
   "outputs": [
    {
     "name": "stdout",
     "output_type": "stream",
     "text": [
      "(19360,)\n",
      "(50, 19360)\n"
     ]
    }
   ],
   "source": [
    "data = np.genfromtxt('MeanAndFaces.csv', delimiter=',')\n",
    "eigenMat = data[1:]\n",
    "mean = data[0]\n",
    "numpics = 8\n",
    "numeigenvecs = 50\n",
    "new_size = (160, 121)\n",
    "print(mean.shape)\n",
    "print(eigenMat.shape)"
   ]
  },
  {
   "cell_type": "code",
   "execution_count": 6,
   "id": "4b8a7fbb",
   "metadata": {},
   "outputs": [],
   "source": [
    "#getting aahan data\n",
    "root_dir = os.getcwd()\n",
    "src = os.path.join(root_dir,'Test_Images/Crop_images/aahan_crop/')\n",
    "\n",
    "allFileNames = os.listdir(src)\n",
    " \n",
    "\n",
    "\n",
    "aahanData = np.zeros((numpics,numeigenvecs))\n",
    "\n",
    "i = 0\n",
    "for name in allFileNames:\n",
    "\n",
    "    img = Image.open('./Test_Images/Crop_images/aahan_crop/' + name)\n",
    "    img = img.convert(\"L\")\n",
    "    img = img.resize(new_size, resample=Image.LANCZOS)\n",
    "    img = np.array(img)\n",
    "    img = np.ndarray.flatten(img) - mean\n",
    "    aahanData[i,:] = eigenMat @ img\n",
    "    i+=1"
   ]
  },
  {
   "cell_type": "code",
   "execution_count": 7,
   "id": "97358c68",
   "metadata": {},
   "outputs": [],
   "source": [
    "#getting chaz data\n",
    "\n",
    "root_dir = os.getcwd()\n",
    "src = os.path.join(root_dir,'Test_Images/Crop_images/chaz_crop/')\n",
    "\n",
    "allFileNames = os.listdir(src)\n",
    " \n",
    "\n",
    "\n",
    "chazData = np.zeros((numpics,numeigenvecs))\n",
    "\n",
    "i = 0\n",
    "for name in allFileNames:\n",
    "\n",
    "    img = Image.open('./Test_Images/Crop_images/chaz_crop/' + name)\n",
    "    img = img.convert(\"L\")\n",
    "    img = img.resize(new_size, resample=Image.LANCZOS)\n",
    "    img = np.array(img)\n",
    "    img = np.ndarray.flatten(img) - mean\n",
    "    chazData[i,:] = eigenMat @ img\n",
    "    i+=1"
   ]
  },
  {
   "cell_type": "code",
   "execution_count": 8,
   "id": "f1ac12ee",
   "metadata": {},
   "outputs": [],
   "source": [
    "#getting rudy data\n",
    "\n",
    "root_dir = os.getcwd()\n",
    "src = os.path.join(root_dir,'Test_Images/Crop_images/rudy_crop/')\n",
    "\n",
    "allFileNames = os.listdir(src)\n",
    " \n",
    "rudyData = np.zeros((numpics,numeigenvecs))\n",
    "\n",
    "i = 0\n",
    "for name in allFileNames:\n",
    "\n",
    "    img = Image.open('./Test_Images/Crop_images/rudy_crop/' + name)\n",
    "    img = img.convert(\"L\")\n",
    "    img = img.resize(new_size, resample=Image.LANCZOS)\n",
    "    img = np.array(img)\n",
    "    img = np.ndarray.flatten(img) - mean\n",
    "    rudyData[i,:] = eigenMat @ img\n",
    "    i+=1"
   ]
  },
  {
   "cell_type": "code",
   "execution_count": 9,
   "id": "4517f0d9",
   "metadata": {},
   "outputs": [
    {
     "name": "stdout",
     "output_type": "stream",
     "text": [
      "(24, 50)\n"
     ]
    }
   ],
   "source": [
    "toCSV = np.row_stack((aahanData,chazData,rudyData))\n",
    "print(toCSV.shape)\n",
    "# Define the data to be stored in the CSV file\n",
    "# Open a new CSV file in write mode\n",
    "with open(\"ACR.csv\", \"w\", newline=\"\") as csvfile:\n",
    "    # Create a CSV writer object\n",
    "    writer = csv.writer(csvfile)\n",
    "\n",
    "    for i in range(toCSV.shape[0]):\n",
    "        writer.writerow(toCSV[i])"
   ]
  }
 ],
 "metadata": {
  "kernelspec": {
   "display_name": "Python 3 (ipykernel)",
   "language": "python",
   "name": "python3"
  },
  "language_info": {
   "codemirror_mode": {
    "name": "ipython",
    "version": 3
   },
   "file_extension": ".py",
   "mimetype": "text/x-python",
   "name": "python",
   "nbconvert_exporter": "python",
   "pygments_lexer": "ipython3",
   "version": "3.10.9"
  }
 },
 "nbformat": 4,
 "nbformat_minor": 5
}
