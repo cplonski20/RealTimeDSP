{
 "cells": [
  {
   "cell_type": "markdown",
   "id": "7cac48b1",
   "metadata": {},
   "source": [
    "# ECE 420 Final Project: Tip of the Toungue\n",
    "\n",
    "## Creating Eigenfaces from training set\n",
    "\n",
    "Rutvik Sayankar,\n",
    "Charlie Plonski,\n",
    "Aahan Thapliyal"
   ]
  },
  {
   "cell_type": "code",
   "execution_count": 3,
   "id": "2a1c8438",
   "metadata": {},
   "outputs": [
    {
     "name": "stdout",
     "output_type": "stream",
     "text": [
      "Data Shape:  (165, 13568)\n",
      "Mean Reshaped:  (13568, 1)\n"
     ]
    }
   ],
   "source": [
    "# Import the necessary libraries\n",
    "import numpy as np\n",
    "import os\n",
    "from PIL import Image, ImageOps\n",
    "\n",
    "root_dir = os.getcwd()\n",
    "\n",
    "src = os.path.join(root_dir,'./YALE/centered/')\n",
    "allFileNames = os.listdir(src)\n",
    "# os.abort()\n",
    "\n",
    "# srccropped = os.path.join(root_dir,'./YALE/supported/')\n",
    "# cropppedFileNames = os.listdir(src)\n",
    "\n",
    "# load the image and convert into\n",
    "# numpy array\n",
    "\n",
    "numclasses = 15\n",
    "picsperclass = 11\n",
    "# picsperclass = 22\n",
    "# print((cropppedFileNames))\n",
    "numEigenfaces = 146 #previoulsy used 136\n",
    "skippedeigenfaces = 0\n",
    "# newsize = (195, 231) # AVERAGE SIZE OF CHAZCROPPED IMAGES IS 106x128 #195x231 is centered size\n",
    "newsize = (106,128)\n",
    "# newsize = (50,52)\n",
    "# print(newsize)\n",
    "origdata = np.zeros((newsize[0]*newsize[1],numclasses * picsperclass))\n",
    "i = 0\n",
    "\n",
    "# print(len(allFileNames))\n",
    "for name in allFileNames:\n",
    "\n",
    "    img = Image.open(src + name)\n",
    "    img = img.convert(\"L\")\n",
    "    # print(img.size)\n",
    "    img = img.resize(newsize)\n",
    "    img = ImageOps.equalize(img)\n",
    "    if(i  == 0):\n",
    "        img.show()\n",
    "    numpydata = np.asarray(img)\n",
    "    origdata[:,i] = numpydata.flatten()\n",
    "    i+=1\n",
    "\n",
    "    # img = Image.open(srccropped + cropppedFileNames[i//2])\n",
    "    # img = img.convert(\"L\")\n",
    "    # img = img.resize(newsize)\n",
    "    # if(i  == 5):\n",
    "    #     img.show()\n",
    "    # numpydata = np.asarray(img)\n",
    "    # origdata[:,i] = numpydata.flatten()\n",
    "    # i+=1\n",
    "\n",
    "# Transposed Data\n",
    "origdata = origdata.T\n",
    "data = np.copy(origdata)\n",
    "print(\"Data Shape: \", data.shape)\n",
    "#image size is 218*178\n",
    "\n",
    "#zero mean the data\n",
    "mean = np.mean(data,axis = 0).reshape(-1,1)\n",
    "\n",
    "# Reshape the data\n",
    "data = data - mean.reshape(1,-1)\n",
    "\n",
    "print(\"Mean Reshaped: \", mean.shape)"
   ]
  },
  {
   "cell_type": "code",
   "execution_count": 4,
   "id": "26831e72",
   "metadata": {},
   "outputs": [],
   "source": [
    "# print(tempsize/165)"
   ]
  },
  {
   "cell_type": "code",
   "execution_count": 5,
   "id": "ac674701",
   "metadata": {},
   "outputs": [],
   "source": [
    "def pca(data):\n",
    "        \"\"\" Implement PCA via the eigendecomposition or the SVD.\n",
    "\n",
    "        Parameters:\n",
    "        1. data     (N,d) numpy ndarray. Each row as a feature vector.\n",
    "\n",
    "        Outputs:\n",
    "        1. W        (d,d) numpy array. PCA transformation matrix (Note that each **row** of the matrix should be a principal component)\n",
    "        2. s        (d,) numpy array. Vector consisting of the amount  of variance explained in the data by each PCA feature.\n",
    "        Note that the PCA features are ordered in **decreasing** amount of variance explained, by convention.\n",
    "        \"\"\"\n",
    "        W = np.zeros((data.shape[1],data.shape[1]))\n",
    "        s = np.zeros(data.shape[1])\n",
    "        # Put your code below\n",
    "        covariance_matrix = np.dot(data,data.T)/(data.shape[0])\n",
    "        eigvals, eigvecs = np.linalg.eigh(covariance_matrix)\n",
    "        eigvals = eigvals[::-1]\n",
    "        eigvecs = eigvecs[:,::-1]\n",
    "        W = eigvecs\n",
    "        s = eigvals\n",
    "        \n",
    "\n",
    "        return (W,s)"
   ]
  },
  {
   "cell_type": "code",
   "execution_count": 6,
   "id": "602bdc98",
   "metadata": {},
   "outputs": [],
   "source": [
    "\n",
    "from sklearn.decomposition import PCA\n",
    "libpca = PCA().fit(data)\n",
    "libeigfaces = libpca.components_\n",
    "\n",
    "eigenfaces = pca(data)"
   ]
  },
  {
   "cell_type": "code",
   "execution_count": 7,
   "id": "6d1d88de",
   "metadata": {},
   "outputs": [
    {
     "name": "stdout",
     "output_type": "stream",
     "text": [
      "(165, 165)\n",
      "(165, 13568)\n",
      "Eigenfaces Shape:  (165, 13568)\n",
      "(165, 13568)\n"
     ]
    }
   ],
   "source": [
    "W = eigenfaces[0] # Eigenvectors\n",
    "s = eigenfaces[1] # Eigenvalues\n",
    "print(W.shape)\n",
    "print(data.shape)\n",
    "# eigenfaces = W.dot(data)\n",
    "eigenfaces = data.T.dot(W)\n",
    "\n",
    "eigenfaces=eigenfaces.T\n",
    "\n",
    "print(\"Eigenfaces Shape: \", eigenfaces.shape)\n",
    "\n",
    "# Normalizes the eigenfaces between 0 & 1\n",
    "for i in range(eigenfaces.shape[0]):\n",
    "    eigenfaces[i] = eigenfaces[i]/np.linalg.norm(eigenfaces[i])\n",
    "\n",
    "\n",
    "#LIBRARY\n",
    "eigenfaces = libeigfaces\n",
    "print(eigenfaces.shape)"
   ]
  },
  {
   "cell_type": "code",
   "execution_count": 8,
   "id": "46d17e25",
   "metadata": {},
   "outputs": [],
   "source": [
    "# print(libpca.singular_values_)\n",
    "# print(s)"
   ]
  },
  {
   "cell_type": "code",
   "execution_count": 9,
   "id": "b2e893ae",
   "metadata": {},
   "outputs": [
    {
     "name": "stdout",
     "output_type": "stream",
     "text": [
      "(146, 13568)\n"
     ]
    }
   ],
   "source": [
    "# magicmatrix = eigenfaces[0:numEigenfaces]\n",
    "magicmatrix = eigenfaces[skippedeigenfaces:numEigenfaces]\n",
    "print(magicmatrix.shape)"
   ]
  },
  {
   "cell_type": "code",
   "execution_count": 10,
   "id": "97965b3f",
   "metadata": {},
   "outputs": [],
   "source": [
    "# import csv\n",
    "\n",
    "# # Define the data to be stored in the CSV file\n",
    "# # Open a new CSV file in write mode\n",
    "# with open(\"MeanAndFaces.csv\", \"w\", newline=\"\") as csvfile:\n",
    "#     # Create a CSV writer object\n",
    "#     writer = csv.writer(csvfile)\n",
    "    \n",
    "#     # Write the data to the CSV file\n",
    "#     writer.writerow(mean.flatten())\n",
    "#     for i in range(numEigenfaces):\n",
    "#         writer.writerow(magicmatrix[i])\n",
    "# #     writer.writerow(aahandata)\n",
    "# #     writer.writerow(chazdata)\n",
    "# #     writer.writerow(rudydata)"
   ]
  },
  {
   "cell_type": "code",
   "execution_count": 11,
   "id": "d0a05c03",
   "metadata": {},
   "outputs": [
    {
     "name": "stdout",
     "output_type": "stream",
     "text": [
      "(165, 13568)\n"
     ]
    }
   ],
   "source": [
    "#begin extension to fisher faces\n",
    "\n",
    "#NOTES: numclasses =15, numpicsperclass = 11, num total pics = 165\n",
    "print(origdata.shape)\n",
    "classData = np.zeros((15,picsperclass,newsize[0]*newsize[1]))\n",
    "for i in range(165):\n",
    "    classData[i//picsperclass][i%picsperclass] = origdata[i]\n",
    "\n"
   ]
  },
  {
   "cell_type": "code",
   "execution_count": 12,
   "id": "be4aa588",
   "metadata": {},
   "outputs": [],
   "source": [
    "# correct data\n",
    "# toshow = Image.fromarray(classData[0][5].reshape((newsize[1],newsize[0])))\n",
    "# toshow.show()"
   ]
  },
  {
   "cell_type": "code",
   "execution_count": 13,
   "id": "e446c7c0",
   "metadata": {},
   "outputs": [],
   "source": [
    "#calculating optimization\n",
    "Sbprojected = np.zeros((numEigenfaces- skippedeigenfaces,numEigenfaces-skippedeigenfaces))\n",
    "Swprojected = np.zeros((numEigenfaces-skippedeigenfaces,numEigenfaces-skippedeigenfaces))\n",
    "\n",
    "\n",
    "#calculating SBprojected\n",
    "mean  = mean.flatten()\n",
    "#mean is mean for all images calculated above\n",
    "for i in range(numclasses):\n",
    "    temp = classData[i]\n",
    "    classmean = np.mean(temp, axis = 0)\n",
    "    left  = magicmatrix @(classmean - mean.flatten()).reshape(-1,1)\n",
    "    right = (classmean - mean).reshape(1,-1) @ magicmatrix.T\n",
    "    Sbprojected += picsperclass * left @ right"
   ]
  },
  {
   "cell_type": "code",
   "execution_count": 14,
   "id": "ccd9ed37",
   "metadata": {},
   "outputs": [],
   "source": [
    "# Sw = np.zeros((newsize[0]*newsize[1],newsize[0]*newsize[1]))\n",
    "#calculating Sw projected\n",
    "for i in range(numclasses):\n",
    "    for j in range(picsperclass):\n",
    "        classmean = np.mean(classData[i], axis = 0)\n",
    "        left = magicmatrix @ (classData[i][j] - classmean).reshape(-1,1)\n",
    "        right = (classData[i][j] - classmean).reshape(1,-1) @ magicmatrix.T\n",
    "        Swprojected += left @ right\n"
   ]
  },
  {
   "cell_type": "code",
   "execution_count": 15,
   "id": "7726f37e",
   "metadata": {},
   "outputs": [],
   "source": [
    "# Swprojected = magicmatrix @ Sw @ magicmatrix.T\n",
    "# Sbprojected = magicmatrix @ Sb @ magicmatrix.T\n",
    "\n",
    "# Swprojected = np.genfromtxt('./Sbprojectedto136(160x121).csv', delimiter=',')\n",
    "# Sbprojected = np.genfromtxt('./Swprojectedto136(160x121).csv', delimiter=',')"
   ]
  },
  {
   "cell_type": "code",
   "execution_count": 16,
   "id": "448ad27a",
   "metadata": {},
   "outputs": [],
   "source": [
    "# np.savetxt('Sbprojectedto136(160x121).csv',Sbprojected, delimiter=\",\")\n",
    "# np.savetxt('Swprojectedto136(160x121).csv',Swprojected, delimiter=\",\")"
   ]
  },
  {
   "cell_type": "code",
   "execution_count": 17,
   "id": "66a98934",
   "metadata": {},
   "outputs": [],
   "source": [
    "# w1,v1 = np.linalg.eigh(Sbprojected)\n",
    "# w2,v2 = np.linalg.eigh(Swprojected)\n",
    "# w1 =w1[::-1]\n",
    "# v1 = v1[:,::-1]\n",
    "# w2 = w2[::-1]\n",
    "# v2 = v2[:,::-1]"
   ]
  },
  {
   "cell_type": "code",
   "execution_count": 18,
   "id": "ecd6c8d3",
   "metadata": {},
   "outputs": [],
   "source": [
    "from scipy.linalg import eigh\n",
    "\n",
    "# geneigvals, geneigvecs = eigh(Sbprojected, Swprojected + np.identity(Swprojected.shape[0])*.000001, eigvals_only=False)\n",
    "geneigvals, geneigvecs = eigh(Sbprojected, Swprojected, eigvals_only=False)\n",
    "\n",
    "geneigvals = geneigvals[::-1]\n",
    "geneigvecs =  geneigvecs[:,::-1]\n",
    "# geneigvecs =  v1[:,::-1]\n",
    "\n",
    "geneigvecs = geneigvecs.T\n",
    "# print(np.linalg.norm(geneigvecs[:,0]))\n",
    "# temp0 = geneigvecs[:,0]/np.linalg.norm(geneigvecs[:,0])\n",
    "# for i in range(geneigvecs.shape[0]):\n",
    "#     geneigvecs[i] = geneigvecs[i]/np.linalg.norm(geneigvecs[i])"
   ]
  },
  {
   "cell_type": "code",
   "execution_count": 19,
   "id": "2f1607e6",
   "metadata": {},
   "outputs": [
    {
     "name": "stdout",
     "output_type": "stream",
     "text": [
      "14\n"
     ]
    },
    {
     "data": {
      "image/png": "[encoded data removed]",
      "text/plain": [
       "<Figure size 640x480 with 1 Axes>"
      ]
     },
     "metadata": {},
     "output_type": "display_data"
    }
   ],
   "source": [
    "import matplotlib.pyplot as plt\n",
    "import scipy\n",
    "temp = np.zeros(numEigenfaces)\n",
    "\n",
    "for i in range(1,numEigenfaces):\n",
    "    potentialFish = geneigvecs[:i]\n",
    "    upperterm = potentialFish @ Sbprojected @ potentialFish.T\n",
    "    lowterm = potentialFish @ Swprojected @ potentialFish.T\n",
    "\n",
    "    # lowterm = lowterm/np.amax(lowterm)\n",
    "    # upperterm = upperterm /np.amax(upperterm)\n",
    "\n",
    "    upperdet = scipy.linalg.det(upperterm)\n",
    "    lowdet = scipy.linalg.det(lowterm)\n",
    "    # print(lowdet)\n",
    "    temp[i] = upperdet\n",
    "\n",
    "\n",
    "print(np.argmax(temp))\n",
    "plt.plot(np.arange(numEigenfaces), temp)\n",
    "fishMat = geneigvecs[:np.argmax(temp)]\n",
    "\n",
    "\n",
    "# transformmat = np.delete(fishMat, [3, 6], 0)\n",
    "# transformmat = np.delete(transformmat, -2, 0)\n",
    "# transformmat = np.delete(transformmat, -4, 0)\n",
    "# fishMat = transformmat\n",
    "\n",
    "\n"
   ]
  },
  {
   "cell_type": "code",
   "execution_count": 20,
   "id": "16e56da4",
   "metadata": {},
   "outputs": [],
   "source": [
    "#THANK GOD\n",
    "# print(magicmatrix.shape)\n",
    "FinalMat = fishMat @ magicmatrix\n",
    "# print(FinalMat.shape)"
   ]
  },
  {
   "cell_type": "code",
   "execution_count": null,
   "id": "8fd45526",
   "metadata": {},
   "outputs": [],
   "source": []
  },
  {
   "cell_type": "code",
   "execution_count": 21,
   "id": "2513abb0",
   "metadata": {},
   "outputs": [
    {
     "name": "stdout",
     "output_type": "stream",
     "text": [
      "(14, 13568)\n"
     ]
    }
   ],
   "source": [
    "for i in range(FinalMat.shape[0]):\n",
    "    FinalMat[i] = FinalMat[i]/np.linalg.norm(FinalMat[i])\n",
    "\n",
    "print(FinalMat.shape)"
   ]
  },
  {
   "cell_type": "code",
   "execution_count": 22,
   "id": "3c75666c",
   "metadata": {},
   "outputs": [],
   "source": [
    "import csv\n",
    "\n",
    "# Define the data to be stored in the CSV file\n",
    "# Open a new CSV file in write mode\n",
    "with open(\"MeanAndFaces.csv\", \"w\", newline=\"\") as csvfile:\n",
    "    # Create a CSV writer object\n",
    "    writer = csv.writer(csvfile)\n",
    "    \n",
    "    # Write the data to the CSV file\n",
    "    writer.writerow(mean.flatten())\n",
    "    for i in range(FinalMat.shape[0]):\n",
    "        writer.writerow(FinalMat[i])\n"
   ]
  },
  {
   "cell_type": "code",
   "execution_count": 23,
   "id": "37113160",
   "metadata": {},
   "outputs": [
    {
     "name": "stdout",
     "output_type": "stream",
     "text": [
      "146\n"
     ]
    }
   ],
   "source": [
    "# generates eigenfaces csv file\n",
    "\n",
    "\n",
    "import csv\n",
    "\n",
    "# Define the data to be stored in the CSV file\n",
    "# Open a new CSV file in write mode\n",
    "print(magicmatrix.shape[0])\n",
    "with open(\"EigenFaces.csv\", \"w\", newline=\"\") as csvfile:\n",
    "    # Create a CSV writer object\n",
    "    writer = csv.writer(csvfile)\n",
    "    \n",
    "    # Write the data to the CSV file\n",
    "    writer.writerow(mean.flatten())\n",
    "    for i in range(magicmatrix.shape[0]):\n",
    "        writer.writerow(magicmatrix[i])"
   ]
  },
  {
   "cell_type": "code",
   "execution_count": null,
   "id": "1a6c2c0d",
   "metadata": {},
   "outputs": [],
   "source": [
    "# import os\n",
    "\n",
    "# folder_path = \"./YALE/supported/\"  # replace with the path to your folder\n",
    "\n",
    "# # Loop through all files in the folder\n",
    "# for filename in os.listdir(folder_path):\n",
    "#     if not filename.endswith(\".png\"):  # if the file doesn't end with \".png\"\n",
    "#         file_path = os.path.join(folder_path, filename)  # get the full file path\n",
    "#         os.remove(file_path)  # delete the file\n"
   ]
  },
  {
   "cell_type": "code",
   "execution_count": null,
   "id": "e55d1e16",
   "metadata": {},
   "outputs": [],
   "source": []
  }
 ],
 "metadata": {
  "kernelspec": {
   "display_name": "Python 3 (ipykernel)",
   "language": "python",
   "name": "python3"
  },
  "language_info": {
   "codemirror_mode": {
    "name": "ipython",
    "version": 3
   },
   "file_extension": ".py",
   "mimetype": "text/x-python",
   "name": "python",
   "nbconvert_exporter": "python",
   "pygments_lexer": "ipython3",
   "version": "3.10.9"
  }
 },
 "nbformat": 4,
 "nbformat_minor": 5
}
