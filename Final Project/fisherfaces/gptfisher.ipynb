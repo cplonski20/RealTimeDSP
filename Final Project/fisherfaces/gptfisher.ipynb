{
 "cells": [
  {
   "cell_type": "code",
   "execution_count": 35,
   "metadata": {},
   "outputs": [
    {
     "name": "stdout",
     "output_type": "stream",
     "text": [
      "(195, 231)\n",
      "Data Shape:  (165, 45045)\n",
      "Mean Reshaped:  (45045, 1)\n"
     ]
    }
   ],
   "source": [
    "# Import the necessary libraries\n",
    "from PIL import Image\n",
    "import numpy as np\n",
    "import os\n",
    "from sklearn.decomposition import PCA\n",
    "root_dir = os.getcwd()\n",
    "\n",
    "src = os.path.join(root_dir,'YALE/centered/')\n",
    "allFileNames = os.listdir(src)\n",
    "\n",
    "\n",
    "# srccropped = os.path.join(root_dir,'YALE/aahancroped/')\n",
    "# cropppedFileNames = os.listdir(src)\n",
    "\n",
    "# load the image and convert into\n",
    "# numpy array\n",
    "numclasses = 15\n",
    "picsperclass = 11\n",
    "# picsperclass = 22\n",
    "y = np.zeros(165)\n",
    "numEigenfaces = 146 #previoulsy used 136\n",
    "skippedeigenfaces = 0\n",
    "newsize = (195, 231) # previously used  (160, 121)\n",
    "# newsize = (195- 195//6, 231-231//6)\n",
    "print(newsize)\n",
    "origdata = np.zeros((newsize[0]*newsize[1],numclasses * picsperclass))\n",
    "i = 0\n",
    "\n",
    "\n",
    "for name in allFileNames:\n",
    "\n",
    "    img = Image.open(src + name)\n",
    "    img = img.convert(\"L\")\n",
    "    img = img.resize(newsize)\n",
    "    if(i  == 4):\n",
    "        img.show()\n",
    "    y[i] = i//11\n",
    "    numpydata = np.asarray(img)\n",
    "    origdata[:,i] = numpydata.flatten()\n",
    "    i+=1\n",
    "    \n",
    "    # img = Image.open(srccropped + cropppedFileNames[i//2])\n",
    "    # img = img.convert(\"L\")\n",
    "    # img = img.resize(newsize)\n",
    "    # if(i  == 5):\n",
    "    #     img.show()\n",
    "    # numpydata = np.asarray(img)\n",
    "    # origdata[:,i] = numpydata.flatten()\n",
    "    # i+=1\n",
    "\n",
    "# Transposed Data\n",
    "origdata = origdata.T\n",
    "data = np.copy(origdata)\n",
    "print(\"Data Shape: \", data.shape)\n",
    "#image size is 218*178\n",
    "\n",
    "#zero mean the data\n",
    "mean = np.mean(data,axis = 0).reshape(-1,1)\n",
    "\n",
    "# Reshape the data\n",
    "data = data - mean.reshape(1,-1)\n",
    "\n",
    "print(\"Mean Reshaped: \", mean.shape)"
   ]
  },
  {
   "cell_type": "code",
   "execution_count": 36,
   "metadata": {},
   "outputs": [],
   "source": [
    "# X = data \n",
    "# pca = PCA(n_components=numEigenfaces)\n",
    "# X_pca = pca.fit_transform(X)"
   ]
  },
  {
   "cell_type": "code",
   "execution_count": 37,
   "metadata": {},
   "outputs": [],
   "source": [
    "# class_means = np.array([np.mean(X_pca[y == c], axis=0) for c in np.unique(y)])\n",
    "\n",
    "# S_w = np.zeros((numEigenfaces,numEigenfaces))\n",
    "# for c in np.unique(y):\n",
    "#     X_c = X_pca[y == c]\n",
    "#     class_mean = class_means[int(c)]\n",
    "#     S_w += np.dot((X_c - class_mean).T, (X_c - class_mean))\n",
    "\n",
    "# S_b = np.zeros((numEigenfaces,numEigenfaces))\n",
    "# overall_mean = np.mean(X_pca, axis=0)\n",
    "# # print(overall_mean) # this is zero\n",
    "# for c in np.unique(y):\n",
    "#     X_c = X_pca[y == c]\n",
    "#     class_mean = class_means[int(c)]\n",
    "#     n_c = X_c.shape[0]\n",
    "#     S_b += n_c * np.outer((class_mean - overall_mean), (class_mean - overall_mean))\n"
   ]
  },
  {
   "cell_type": "code",
   "execution_count": 38,
   "metadata": {},
   "outputs": [],
   "source": [
    "# from scipy.linalg import eig, eigh\n",
    "\n",
    "# # geneigvals, geneigvecs = eigh(S_b, S_w)\n",
    "\n",
    "# # geneigvals = geneigvals[::-1]\n",
    "# # geneigvecs =  geneigvecs[:,::-1]\n",
    "# # geneigvecs = geneigvecs.T\n",
    "\n",
    "# geneigvals, geneigvecs = np.linalg.eigh(np.dot(np.linalg.inv(S_w), S_b))\n",
    "# geneigvecs = geneigvecs[:, np.argsort(geneigvals)[::-1]]\n",
    "\n",
    "# geneigvecs = geneigvecs.T\n",
    "# # for i in range(geneigvecs.shape[0]):\n",
    "#     geneigvecs[i] = geneigvecs[i]/np.linalg.norm(geneigvecs[i])"
   ]
  },
  {
   "cell_type": "code",
   "execution_count": 39,
   "metadata": {},
   "outputs": [],
   "source": [
    "# print(geneigvals)\n",
    "# # print(np.linalg.norm(geneigvecs,axis=1))\n",
    "# # print(w)\n",
    "\n",
    "# geneigvecs = geneigvecs[:14]\n"
   ]
  },
  {
   "cell_type": "code",
   "execution_count": 40,
   "metadata": {},
   "outputs": [],
   "source": [
    "# w = np.dot(geneigvecs, pca.components_)\n",
    "# w = np.dot(w, np.linalg.inv(pca.get_covariance()))\n",
    "# w += mean.reshape(1,-1)\n",
    "# for i in range(w.shape[0]):\n",
    "#     w[i] = w[i]/np.linalg.norm(w[i])"
   ]
  },
  {
   "cell_type": "code",
   "execution_count": 41,
   "metadata": {},
   "outputs": [],
   "source": [
    "# toshow = w[1] +mean.reshape(1,-1)\n",
    "# toshow = toshow.reshape(newsize) \n",
    "# toshow= Image.fromarray(toshow.astype(np.uint8), mode='L')\n",
    "# toshow.show()\n"
   ]
  },
  {
   "cell_type": "code",
   "execution_count": 42,
   "metadata": {},
   "outputs": [],
   "source": [
    "import numpy as np\n",
    "from sklearn.decomposition import PCA\n",
    "\n",
    "def fisherface(images, labels, num_components=10):\n",
    "    # Compute the PCA and transform the images\n",
    "    pca = PCA(n_components=num_components)\n",
    "    X_pca = pca.fit_transform(images)\n",
    "\n",
    "    # Compute the class means\n",
    "    class_means = np.zeros((int(np.max(labels)), num_components))\n",
    "    for c in range(1, int(np.max(labels)) + 1):\n",
    "        class_means[c-1] = np.mean(X_pca[labels == c], axis=0)\n",
    "\n",
    "    # Compute the within-class scatter matrix\n",
    "    S_w = np.zeros((num_components, num_components))\n",
    "    for c in range(1, int(np.max(labels)) + 1):\n",
    "        X_c = X_pca[labels == c]\n",
    "        class_mean = class_means[c-1]\n",
    "        S_w += np.dot((X_c - class_mean).T, (X_c - class_mean))\n",
    "\n",
    "    # Compute the between-class scatter matrix\n",
    "    overall_mean = np.mean(X_pca, axis=0)\n",
    "    S_b = np.zeros((num_components, num_components))\n",
    "    for c in range(1, int(np.max(labels)) + 1):\n",
    "        n_c = np.sum(labels == c)\n",
    "        class_mean = class_means[c-1]\n",
    "        S_b += n_c * np.dot((class_mean - overall_mean).T, (class_mean - overall_mean))\n",
    "\n",
    "    # Compute the Fisherfaces\n",
    "    eigenvalues, eigenvectors = np.linalg.eigh(np.dot(np.linalg.inv(S_w), S_b))\n",
    "    idx = eigenvalues.argsort()[::-1]\n",
    "    eigenvectors = eigenvectors[:,idx]\n",
    "\n",
    "    # Compute the weights for each image\n",
    "    w = np.dot(X_pca, eigenvectors)\n",
    "\n",
    "    # Return the PCA model, the Fisherfaces, and the weights\n",
    "    return pca, eigenvectors, w\n"
   ]
  },
  {
   "cell_type": "code",
   "execution_count": 43,
   "metadata": {},
   "outputs": [],
   "source": [
    "temp = fisherface(origdata,y,14)"
   ]
  },
  {
   "cell_type": "code",
   "execution_count": 44,
   "metadata": {},
   "outputs": [
    {
     "name": "stdout",
     "output_type": "stream",
     "text": [
      "[247.52727273 247.64242424 247.82424242 ... 214.09090909 214.4969697\n",
      " 215.06060606]\n"
     ]
    }
   ],
   "source": [
    "print(temp[0].mean_)\n",
    "FinalMat = temp[1] @ temp[0].components_"
   ]
  },
  {
   "cell_type": "code",
   "execution_count": 45,
   "metadata": {},
   "outputs": [
    {
     "name": "stdout",
     "output_type": "stream",
     "text": [
      "[[ 0.00096044  0.00110314  0.00112525 ...  0.00301865  0.00322109\n",
      "   0.00297676]\n",
      " [-0.00102947 -0.00096988 -0.00104757 ... -0.00245258 -0.00235902\n",
      "  -0.00263344]\n",
      " [ 0.00041464  0.00028582  0.00031155 ...  0.0037104   0.00401237\n",
      "   0.00441918]\n",
      " ...\n",
      " [ 0.00160973  0.00159404  0.00152593 ... -0.00523789 -0.00535284\n",
      "  -0.00521381]\n",
      " [ 0.00141608  0.00136833  0.0014254  ...  0.00327388  0.00380013\n",
      "   0.00385208]\n",
      " [-0.00250312 -0.00243241 -0.00264789 ...  0.00395386  0.00402876\n",
      "   0.00349443]]\n"
     ]
    }
   ],
   "source": [
    "print(FinalMat)"
   ]
  },
  {
   "cell_type": "code",
   "execution_count": 46,
   "metadata": {},
   "outputs": [],
   "source": [
    "import csv\n",
    "\n",
    "with open(\"MeanAndFaces.csv\", \"w\", newline=\"\") as csvfile:\n",
    "    # Create a CSV writer object\n",
    "    writer = csv.writer(csvfile)\n",
    "    \n",
    "    # Write the data to the CSV file\n",
    "    writer.writerow(temp[0].mean_.flatten())\n",
    "    for i in range(FinalMat.shape[0]):\n",
    "        writer.writerow(FinalMat[i])"
   ]
  },
  {
   "cell_type": "code",
   "execution_count": null,
   "metadata": {},
   "outputs": [],
   "source": []
  }
 ],
 "metadata": {
  "kernelspec": {
   "display_name": "base",
   "language": "python",
   "name": "python3"
  },
  "language_info": {
   "codemirror_mode": {
    "name": "ipython",
    "version": 3
   },
   "file_extension": ".py",
   "mimetype": "text/x-python",
   "name": "python",
   "nbconvert_exporter": "python",
   "pygments_lexer": "ipython3",
   "version": "3.10.9"
  },
  "orig_nbformat": 4
 },
 "nbformat": 4,
 "nbformat_minor": 2
}
