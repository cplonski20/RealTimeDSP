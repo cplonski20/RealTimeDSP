{
 "cells": [
  {
   "cell_type": "markdown",
   "id": "2e064348",
   "metadata": {},
   "source": [
    "# ECE 420 Final Project: Tip of the Toungue\n",
    "\n",
    "## Mapping our faces to the Eigenfaces\n",
    "\n",
    "Rutvik Sayankar,\n",
    "Charlie Plonski,\n",
    "Aahan Thapliyal"
   ]
  },
  {
   "cell_type": "code",
   "execution_count": 1,
   "id": "4a93d8ef",
   "metadata": {},
   "outputs": [],
   "source": [
    "# Import the necessary libraries\n",
    "from PIL import Image, ImageOps\n",
    "import numpy as np\n",
    "import os\n",
    "import csv\n"
   ]
  },
  {
   "cell_type": "code",
   "execution_count": 2,
   "id": "5504d3e7",
   "metadata": {},
   "outputs": [
    {
     "name": "stdout",
     "output_type": "stream",
     "text": [
      "(2600,)\n",
      "(14, 2600)\n"
     ]
    }
   ],
   "source": [
    "#Fisher ACR\n",
    "data = np.genfromtxt('MeanAndFaces.csv', delimiter=',')\n",
    "fisher = data[1:]\n",
    "mean = data[0]\n",
    "numpics = 3\n",
    "numProjects = data.shape[0] - 1\n",
    "# new_size = (106, 128)\n",
    "# new_size = (195, 231)\n",
    "new_size = (50,52)\n",
    "print(mean.shape)\n",
    "print(fisher.shape)\n",
    "\n",
    "equalize = True\n",
    "aahanfolder = 'newImages/aahansup/'\n",
    "rudyfolder = 'newImages/rudy/'\n",
    "chazfolder = 'newImages/chazsup/'"
   ]
  },
  {
   "cell_type": "code",
   "execution_count": 3,
   "id": "4b8a7fbb",
   "metadata": {},
   "outputs": [],
   "source": [
    "#getting aahan data\n",
    "root_dir = os.getcwd()\n",
    "src = os.path.join(root_dir,aahanfolder)\n",
    "\n",
    "allFileNames = os.listdir(src)\n",
    " \n",
    "\n",
    "\n",
    "aahanData = np.zeros((numpics,numProjects))\n",
    "\n",
    "i = 0\n",
    "for name in allFileNames:\n",
    "\n",
    "    img = Image.open(src + name)\n",
    "    img = img.convert(\"L\")\n",
    "    img = img.resize(new_size, resample=Image.LANCZOS)\n",
    "    if(equalize):\n",
    "        img  = ImageOps.equalize(img)\n",
    "    if(i==1):\n",
    "        img.show()\n",
    "    img = np.array(img)\n",
    "    img = np.ndarray.flatten(img) - mean\n",
    "    aahanData[i,:] = fisher @ img\n",
    "    i+=1"
   ]
  },
  {
   "cell_type": "code",
   "execution_count": 4,
   "id": "97358c68",
   "metadata": {},
   "outputs": [],
   "source": [
    "#getting chaz data\n",
    "\n",
    "root_dir = os.getcwd()\n",
    "src = os.path.join(root_dir,chazfolder)\n",
    "\n",
    "allFileNames = os.listdir(src)\n",
    " \n",
    "\n",
    "\n",
    "chazData = np.zeros((numpics,numProjects))\n",
    "\n",
    "i = 0\n",
    "for name in allFileNames:\n",
    "\n",
    "    img = Image.open(src + name)\n",
    "    img = img.convert(\"L\")\n",
    "    img = img.resize(new_size, resample=Image.LANCZOS)\n",
    "    if(equalize):\n",
    "        img  = ImageOps.equalize(img)\n",
    "    img = np.array(img)\n",
    "    img = np.ndarray.flatten(img) - mean\n",
    "    chazData[i,:] = fisher @ img\n",
    "    i+=1"
   ]
  },
  {
   "cell_type": "code",
   "execution_count": 5,
   "id": "f1ac12ee",
   "metadata": {},
   "outputs": [],
   "source": [
    "#getting rudy data\n",
    "\n",
    "root_dir = os.getcwd()\n",
    "src = os.path.join(root_dir,rudyfolder)\n",
    "\n",
    "allFileNames = os.listdir(src)\n",
    " \n",
    "rudyData = np.zeros((numpics,numProjects))\n",
    "\n",
    "i = 0\n",
    "for name in allFileNames:\n",
    "\n",
    "    img = Image.open(src + name)\n",
    "    img = img.convert(\"L\")\n",
    "    img = img.resize(new_size, resample=Image.LANCZOS)\n",
    "    if(equalize):\n",
    "        img  = ImageOps.equalize(img)\n",
    "    img = np.array(img)\n",
    "    img = np.ndarray.flatten(img) - mean\n",
    "    rudyData[i,:] = fisher @ img\n",
    "    i+=1"
   ]
  },
  {
   "cell_type": "code",
   "execution_count": 6,
   "id": "4517f0d9",
   "metadata": {},
   "outputs": [
    {
     "name": "stdout",
     "output_type": "stream",
     "text": [
      "(9, 14)\n"
     ]
    }
   ],
   "source": [
    "toCSV = np.row_stack((aahanData,chazData,rudyData))\n",
    "print(toCSV.shape)\n",
    "# Define the data to be stored in the CSV file\n",
    "# Open a new CSV file in write mode\n",
    "with open(\"ACR.csv\", \"w\", newline=\"\") as csvfile:\n",
    "    # Create a CSV writer object\n",
    "    writer = csv.writer(csvfile)\n",
    "\n",
    "    for i in range(toCSV.shape[0]):\n",
    "        writer.writerow(toCSV[i])"
   ]
  },
  {
   "cell_type": "code",
   "execution_count": 7,
   "id": "aeb37c7c",
   "metadata": {},
   "outputs": [
    {
     "name": "stdout",
     "output_type": "stream",
     "text": [
      "(2600,)\n",
      "(146, 2600)\n"
     ]
    }
   ],
   "source": [
    "#eigenACR\n",
    "data = np.genfromtxt('EigenFaces.csv', delimiter=',')\n",
    "eigenmat = data[1:]\n",
    "mean = data[0]\n",
    "numpics = 3\n",
    "new_size = new_size\n",
    "print(mean.shape)\n",
    "numEigenfaces = data.shape[0] - 1\n",
    "print(eigenmat.shape)\n",
    "aahanfolder = 'newImages/aahan/'\n",
    "rudyfolder = 'newImages/rudy/'\n",
    "chazfolder = 'newImages/chaz/'"
   ]
  },
  {
   "cell_type": "code",
   "execution_count": 8,
   "id": "4b4e87d3",
   "metadata": {},
   "outputs": [],
   "source": [
    "#getting aahan data\n",
    "root_dir = os.getcwd()\n",
    "src = os.path.join(root_dir,aahanfolder)\n",
    "\n",
    "allFileNames = os.listdir(src)\n",
    " \n",
    "\n",
    "\n",
    "aahanData = np.zeros((numpics,numEigenfaces))\n",
    "\n",
    "i = 0\n",
    "for name in allFileNames:\n",
    "\n",
    "    img = Image.open(src + name)\n",
    "    img = img.convert(\"L\")\n",
    "    img = img.resize(new_size, resample=Image.LANCZOS)\n",
    "    if(equalize):\n",
    "        img  = ImageOps.equalize(img)\n",
    "    # if(i==1):\n",
    "    #     img.show()\n",
    "    img = np.array(img)\n",
    "    img = np.ndarray.flatten(img) - mean\n",
    "    aahanData[i,:] = eigenmat @ img\n",
    "    i+=1\n",
    "\n",
    "\n",
    "#getting chaz data\n",
    "\n",
    "root_dir = os.getcwd()\n",
    "src = os.path.join(root_dir,chazfolder)\n",
    "\n",
    "allFileNames = os.listdir(src)\n",
    " \n",
    "\n",
    "\n",
    "chazData = np.zeros((numpics,numEigenfaces))\n",
    "\n",
    "i = 0\n",
    "\n",
    "for name in allFileNames:\n",
    "\n",
    "    img = Image.open(src + name)\n",
    "    img = img.convert(\"L\")\n",
    "    img = img.resize(new_size, resample=Image.LANCZOS)\n",
    "    if(equalize):\n",
    "        img  = ImageOps.equalize(img)\n",
    "    img = np.array(img)\n",
    "    img = np.ndarray.flatten(img) - mean\n",
    "    chazData[i,:] = eigenmat @ img\n",
    "    i+=1\n",
    "\n",
    "\n",
    "#getting rudy data\n",
    "\n",
    "root_dir = os.getcwd()\n",
    "src = os.path.join(root_dir,rudyfolder)\n",
    "\n",
    "allFileNames = os.listdir(src)\n",
    " \n",
    "rudyData = np.zeros((numpics,numEigenfaces))\n",
    "\n",
    "i = 0\n",
    "for name in allFileNames:\n",
    "\n",
    "    img = Image.open(src + name)\n",
    "    img = img.convert(\"L\")\n",
    "    img = img.resize(new_size, resample=Image.LANCZOS)\n",
    "    if(equalize):\n",
    "        img  = ImageOps.equalize(img)\n",
    "    img = np.array(img)\n",
    "    img = np.ndarray.flatten(img) - mean\n",
    "    rudyData[i,:] = eigenmat @ img\n",
    "    i+=1"
   ]
  },
  {
   "cell_type": "code",
   "execution_count": 9,
   "id": "9bf11e86",
   "metadata": {},
   "outputs": [
    {
     "name": "stdout",
     "output_type": "stream",
     "text": [
      "(9, 146)\n"
     ]
    }
   ],
   "source": [
    "toCSV = np.row_stack((aahanData,chazData,rudyData))\n",
    "print(toCSV.shape)\n",
    "# Define the data to be stored in the CSV file\n",
    "# Open a new CSV file in write mode\n",
    "with open(\"EigenACR.csv\", \"w\", newline=\"\") as csvfile:\n",
    "    # Create a CSV writer object\n",
    "    writer = csv.writer(csvfile)\n",
    "\n",
    "    for i in range(toCSV.shape[0]):\n",
    "        writer.writerow(toCSV[i])"
   ]
  },
  {
   "cell_type": "code",
   "execution_count": null,
   "id": "81c67a7f",
   "metadata": {},
   "outputs": [],
   "source": []
  }
 ],
 "metadata": {
  "kernelspec": {
   "display_name": "Python 3 (ipykernel)",
   "language": "python",
   "name": "python3"
  },
  "language_info": {
   "codemirror_mode": {
    "name": "ipython",
    "version": 3
   },
   "file_extension": ".py",
   "mimetype": "text/x-python",
   "name": "python",
   "nbconvert_exporter": "python",
   "pygments_lexer": "ipython3",
   "version": "3.10.9"
  }
 },
 "nbformat": 4,
 "nbformat_minor": 5
}
