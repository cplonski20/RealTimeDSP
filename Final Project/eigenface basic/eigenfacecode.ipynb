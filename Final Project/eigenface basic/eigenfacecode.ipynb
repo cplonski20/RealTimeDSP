{
 "cells": [
  {
   "cell_type": "code",
   "execution_count": 19,
   "metadata": {},
   "outputs": [
    {
     "name": "stdout",
     "output_type": "stream",
     "text": [
      "(1000, 38804)\n"
     ]
    }
   ],
   "source": [
    "# Import the necessary libraries\n",
    "from PIL import Image\n",
    "import numpy as np\n",
    "import os\n",
    "root_dir = os.getcwd()\n",
    "\n",
    "src = os.path.join(root_dir,'images')\n",
    "allFileNames = os.listdir(src)\n",
    " \n",
    "# temp = np.zeros((218,178))\n",
    "# load the image and convert into\n",
    "# numpy array\n",
    "data = np.zeros((218*178,1000))\n",
    "i = 0\n",
    "for name in allFileNames:\n",
    "\n",
    "    img = Image.open('./images/' + name)\n",
    "    img = img.convert(\"L\")\n",
    "    # asarray() class is used to convert\n",
    "    # PIL images into NumPy arrays\n",
    "    numpydata = np.asarray(img)\n",
    "    \n",
    "    data[:,i] = numpydata.flatten()\n",
    "    i+=1\n",
    "\n",
    "data = data.T\n",
    "print(data.shape)\n",
    "#image size is 218*178"
   ]
  },
  {
   "cell_type": "code",
   "execution_count": 20,
   "metadata": {},
   "outputs": [],
   "source": [
    "# import pandas as pd\n",
    "# data=pd.read('face_data.csv', delimiter=',')\n",
    "# print(data)\n",
    "# #zero mean the data\n",
    "# print(data.shape)\n",
    "mean = np.mean(data,axis = 0)"
   ]
  },
  {
   "cell_type": "code",
   "execution_count": 21,
   "metadata": {},
   "outputs": [],
   "source": [
    "data = data - mean.reshape(1,-1)\n",
    "# for i in range(data.shape[0]):\n",
    "#     data[i] = data[i]/np.amax(data[i])"
   ]
  },
  {
   "cell_type": "code",
   "execution_count": 22,
   "metadata": {},
   "outputs": [],
   "source": [
    "from sklearn.decomposition import PCA\n",
    "libpca = PCA().fit(data)\n",
    "libfaces = libpca.components_"
   ]
  },
  {
   "cell_type": "code",
   "execution_count": 23,
   "metadata": {},
   "outputs": [
    {
     "name": "stdout",
     "output_type": "stream",
     "text": [
      "(1000, 38804)\n"
     ]
    }
   ],
   "source": [
    "print(libfaces.shape)"
   ]
  },
  {
   "cell_type": "code",
   "execution_count": 24,
   "metadata": {},
   "outputs": [
    {
     "name": "stdout",
     "output_type": "stream",
     "text": [
      "(1000, 38804)\n"
     ]
    }
   ],
   "source": [
    "print(data.shape)"
   ]
  },
  {
   "cell_type": "code",
   "execution_count": 25,
   "metadata": {},
   "outputs": [],
   "source": [
    "def pca(data):\n",
    "        \"\"\" Implement PCA via the eigendecomposition or the SVD.\n",
    "\n",
    "        Parameters:\n",
    "        1. data     (N,d) numpy ndarray. Each row as a feature vector.\n",
    "\n",
    "        Outputs:\n",
    "        1. W        (d,d) numpy array. PCA transformation matrix (Note that each **row** of the matrix should be a principal component)\n",
    "        2. s        (d,) numpy array. Vector consisting of the amount  of variance explained in the data by each PCA feature.\n",
    "        Note that the PCA features are ordered in **decreasing** amount of variance explained, by convention.\n",
    "        \"\"\"\n",
    "        W = np.zeros((data.shape[1],data.shape[1]))\n",
    "        s = np.zeros(data.shape[1])\n",
    "        # Put your code below\n",
    "        covariance_matrix = np.dot(data.T,data)/(data.shape[0])\n",
    "        eigvals, eigvecs = np.linalg.eigh(covariance_matrix)\n",
    "        eigvals = eigvals[::-1]\n",
    "        eigvecs = eigvecs[:,::-1]\n",
    "        W = eigvecs\n",
    "        s = eigvals\n",
    "        \n",
    "\n",
    "        return (W,s)"
   ]
  },
  {
   "cell_type": "code",
   "execution_count": 26,
   "metadata": {},
   "outputs": [
    {
     "name": "stdout",
     "output_type": "stream",
     "text": [
      "(38804, 1000)\n"
     ]
    }
   ],
   "source": [
    "data = data.T\n",
    "print(data.shape)\n",
    "eigenfaces = pca(data)"
   ]
  },
  {
   "cell_type": "code",
   "execution_count": 27,
   "metadata": {},
   "outputs": [
    {
     "name": "stdout",
     "output_type": "stream",
     "text": [
      "(1000, 1000)\n",
      "(38804, 1000)\n",
      "(38804, 1000)\n"
     ]
    }
   ],
   "source": [
    "W = eigenfaces[0]\n",
    "s = eigenfaces[1]\n",
    "print(W.shape)\n",
    "print(data.shape)\n",
    "# eigenfaces = W.dot(data)\n",
    "eigenfaces = data.dot(W)\n",
    "# temp = np.linalg.svd(data)\n",
    "print(eigenfaces.shape)\n",
    "eigenfaces=eigenfaces.T"
   ]
  },
  {
   "cell_type": "code",
   "execution_count": 28,
   "metadata": {},
   "outputs": [
    {
     "name": "stdout",
     "output_type": "stream",
     "text": [
      "(1000, 38804)\n"
     ]
    }
   ],
   "source": [
    "print(eigenfaces.shape)"
   ]
  },
  {
   "cell_type": "code",
   "execution_count": 29,
   "metadata": {},
   "outputs": [],
   "source": [
    "for i in range(eigenfaces.shape[0]):\n",
    "    eigenfaces[i] = eigenfaces[i]/np.linalg.norm(eigenfaces[i])\n",
    "    \n"
   ]
  },
  {
   "cell_type": "code",
   "execution_count": 30,
   "metadata": {},
   "outputs": [],
   "source": [
    "# When you want to export the eigenface vectors they are in eigenfaces matrix stored as rows. You can take the first 100 or so vectors.\n",
    "# Maybe dont use first 3 as paper mentions\n",
    "# NEED TO RESHAPE IMAGE TO 218,178 and then flatten it \n",
    "# Export the mean also stored as (mean)\n",
    "\n",
    "#Steps to first demo:\n",
    "# 1) export eigenfaces and the mean \n",
    "# 2) use face tracking from lab 7 \n",
    "# 3) between updating frames take roi resize (using library) to 218x177, subtract mean, and project onto the 100 or \n",
    "#    so eigenfaces we used. This gives u 100 or so values\n",
    "# 4) treat 100 or so values as a vector and find the distanc of that vector to other stored vectors gotten by projecting images (after subtracting mean) of our faces onto the eigenfaces\n",
    "# 5) Smallest distance cooresponds to the face of the person who we are likely tracking\n",
    "# 6) classify that person by placing text at the bottom of ROI (Using opencv) saying their name\n",
    "\n",
    "\n",
    "#below this is stuff irrelevant to our project\n",
    "\n",
    "\n"
   ]
  },
  {
   "cell_type": "code",
   "execution_count": 31,
   "metadata": {},
   "outputs": [],
   "source": [
    "# test = Image.open('./images/000007.jpg')\n",
    "# test = test.convert(\"L\")\n",
    "# test = np.asarray(img)\n",
    "# # img = Image.fromarray(np.uint8(test) , 'L')\n",
    "# # img.show()\n",
    "# test = np.ndarray.flatten(test)\n",
    "# test = test - mean\n",
    "\n",
    "# toshow = np.zeros((218,178))\n",
    "# for i in range(0,1000):\n",
    "#     projected = eigenfaces[i] * np.dot(eigenfaces[i], test)\n",
    "#     projected = projected.reshape((218,178))\n",
    "#     toshow += projected\n",
    "\n",
    "# # projected = eigenfaces[7] * np.dot(eigenfaces[7], test)\n",
    "# # projected = projected.reshape((218,178))\n",
    "# toshow= 255*((toshow - np.min(toshow)) / (np.max(toshow) - np.min(toshow)))\n",
    "\n",
    "# img = Image.fromarray(np.uint8(toshow) , 'L')\n",
    "# img.show()"
   ]
  },
  {
   "cell_type": "code",
   "execution_count": 32,
   "metadata": {},
   "outputs": [],
   "source": [
    "\n",
    "# new_size = (178, 218)\n",
    "\n",
    "# # Open the image file\n",
    "# chazPIC = Image.open('./chazpic.jpg')\n",
    "# chazPIC = chazPIC.resize(new_size, resample=Image.LANCZOS)\n",
    "# chazPIC = np.array(chazPIC.convert(\"L\"))\n",
    "# img = Image.fromarray(np.uint8(chazPIC) , 'L')\n",
    "# img.show()\n",
    "# chazPIC = np.ndarray.flatten(chazPIC) - mean\n",
    "\n",
    "# aahanPIC = Image.open('./aahanpic.jpg')\n",
    "# aahanPIC = aahanPIC.resize(new_size, resample=Image.LANCZOS)\n",
    "# aahanPIC = np.array(aahanPIC.convert(\"L\"))\n",
    "# aahanPIC = np.ndarray.flatten(aahanPIC) - mean\n",
    "\n",
    "# rutvikPIC = Image.open('./rutvikface.jpg')\n",
    "# rutvikPIC = rutvikPIC.resize(new_size, resample=Image.LANCZOS)\n",
    "# rutvikPIC = np.array(rutvikPIC.convert(\"L\"))\n",
    "# rutvikPIC = np.ndarray.flatten(rutvikPIC) - mean\n",
    "\n",
    "\n",
    "# finaltest = Image.open('./chazCropped.jpg')\n",
    "# finaltest = finaltest.resize(new_size, resample=Image.LANCZOS)\n",
    "# finaltest = np.array(finaltest.convert(\"L\"))\n",
    "# img = Image.fromarray(np.uint8(finaltest) , 'L')\n",
    "# img.show()\n",
    "# finaltest = np.ndarray.flatten(finaltest) - mean\n",
    "\n"
   ]
  },
  {
   "cell_type": "code",
   "execution_count": 33,
   "metadata": {},
   "outputs": [
    {
     "name": "stdout",
     "output_type": "stream",
     "text": [
      "(1000, 38804)\n"
     ]
    }
   ],
   "source": [
    "# test = np.ndarray.flatten(np.asarray(resized_image)) - mean\n",
    "# toshow = np.zeros((218,178))\n",
    "# for i in range(2,1000):\n",
    "#     projected = eigenfaces[i] * np.dot(eigenfaces[i], test)\n",
    "#     projected = projected.reshape((218,178))\n",
    "#     toshow += projected\n",
    "\n",
    "# # projected = eigenfaces[7] * np.dot(eigenfaces[7], test)\n",
    "# # projected = projected.reshape((218,178))\n",
    "# toshow= 255*((toshow - np.min(toshow)) / (np.max(toshow) - np.min(toshow)))\n",
    "\n",
    "# img = Image.fromarray(np.uint8(toshow) , 'L')\n",
    "# img.show()\n",
    "magicmatrix = eigenfaces[0:1000]\n",
    "print(magicmatrix.shape)"
   ]
  },
  {
   "cell_type": "code",
   "execution_count": 34,
   "metadata": {},
   "outputs": [],
   "source": [
    "\n",
    "# chazdata =  magicmatrix @ chazPIC\n",
    "# aahandata = magicmatrix @ aahanPIC\n",
    "# rudydata = magicmatrix @ rutvikPIC\n",
    "# finaldata = magicmatrix @ finaltest\n",
    "\n",
    "# results = np.zeros(3)\n",
    "\n",
    "# results[0] = np.linalg.norm(chazdata - finaldata)\n",
    "# results[1] = np.linalg.norm(aahandata - finaldata)\n",
    "# results[2] = np.linalg.norm(rudydata - finaldata)"
   ]
  },
  {
   "cell_type": "code",
   "execution_count": 35,
   "metadata": {},
   "outputs": [],
   "source": [
    "# print(results)"
   ]
  },
  {
   "cell_type": "code",
   "execution_count": 36,
   "metadata": {},
   "outputs": [
    {
     "ename": "KeyboardInterrupt",
     "evalue": "",
     "output_type": "error",
     "traceback": [
      "\u001b[1;31m---------------------------------------------------------------------------\u001b[0m",
      "\u001b[1;31mKeyboardInterrupt\u001b[0m                         Traceback (most recent call last)",
      "Cell \u001b[1;32mIn[36], line 12\u001b[0m\n\u001b[0;32m     10\u001b[0m writer\u001b[39m.\u001b[39mwriterow(mean)\n\u001b[0;32m     11\u001b[0m \u001b[39mfor\u001b[39;00m i \u001b[39min\u001b[39;00m \u001b[39mrange\u001b[39m(\u001b[39m1000\u001b[39m):\n\u001b[1;32m---> 12\u001b[0m     writer\u001b[39m.\u001b[39;49mwriterow(magicmatrix[i])\n",
      "\u001b[1;31mKeyboardInterrupt\u001b[0m: "
     ]
    }
   ],
   "source": [
    "import csv\n",
    "\n",
    "# Define the data to be stored in the CSV file\n",
    "# Open a new CSV file in write mode\n",
    "with open(\"MeanAndFaces.csv\", \"w\", newline=\"\") as csvfile:\n",
    "    # Create a CSV writer object\n",
    "    writer = csv.writer(csvfile)\n",
    "    \n",
    "    # Write the data to the CSV file\n",
    "    writer.writerow(mean)\n",
    "    for i in range(1000):\n",
    "        writer.writerow(magicmatrix[i])\n",
    "    # writer.writerow(aahandata)\n",
    "    # writer.writerow(chazdata)\n",
    "    # writer.writerow(rudydata)"
   ]
  },
  {
   "cell_type": "code",
   "execution_count": null,
   "metadata": {},
   "outputs": [],
   "source": []
  },
  {
   "cell_type": "code",
   "execution_count": null,
   "metadata": {},
   "outputs": [
    {
     "name": "stdout",
     "output_type": "stream",
     "text": [
      "[[ 0.00797256  0.00793835  0.00792132 ...  0.00337824  0.00344499\n",
      "   0.00348843]\n",
      " [ 0.00653661  0.00649523  0.0064303  ... -0.00501772 -0.00506891\n",
      "  -0.00512935]\n",
      " [-0.00170691 -0.0017554  -0.00178037 ...  0.00247362  0.00237512\n",
      "   0.00238311]\n",
      " ...\n",
      " [ 0.00024006 -0.00083089  0.00030707 ...  0.00200169  0.00211972\n",
      "   0.00350075]\n",
      " [-0.00014286  0.00077347  0.00493813 ... -0.0026447  -0.00444323\n",
      "  -0.00018883]\n",
      " [ 0.04717534 -0.02374778 -0.13788959 ... -0.00350091 -0.00177953\n",
      "   0.01052739]]\n"
     ]
    }
   ],
   "source": [
    "# print(libfaces)"
   ]
  },
  {
   "cell_type": "code",
   "execution_count": null,
   "metadata": {},
   "outputs": [
    {
     "data": {
      "text/plain": [
       "[<matplotlib.lines.Line2D at 0x124944a1990>]"
      ]
     },
     "execution_count": 50,
     "metadata": {},
     "output_type": "execute_result"
    },
    {
     "data": {
      "image/png": "[encoded data removed]",
      "text/plain": [
       "<Figure size 1800x700 with 1 Axes>"
      ]
     },
     "metadata": {},
     "output_type": "display_data"
    }
   ],
   "source": [
    "import matplotlib.pyplot as plt\n",
    "plt.figure(figsize=(18, 7))\n",
    "plt.plot(libpca.explained_variance_ratio_.cumsum(), lw=3)"
   ]
  },
  {
   "cell_type": "code",
   "execution_count": null,
   "metadata": {},
   "outputs": [],
   "source": []
  }
 ],
 "metadata": {
  "kernelspec": {
   "display_name": "Python 3",
   "language": "python",
   "name": "python3"
  },
  "language_info": {
   "codemirror_mode": {
    "name": "ipython",
    "version": 3
   },
   "file_extension": ".py",
   "mimetype": "text/x-python",
   "name": "python",
   "nbconvert_exporter": "python",
   "pygments_lexer": "ipython3",
   "version": "3.10.9"
  },
  "orig_nbformat": 4
 },
 "nbformat": 4,
 "nbformat_minor": 2
}
